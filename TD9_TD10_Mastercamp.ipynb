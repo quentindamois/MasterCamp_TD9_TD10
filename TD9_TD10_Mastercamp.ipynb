{
 "cells": [
  {
   "cell_type": "code",
   "execution_count": 55,
   "id": "a031962e",
   "metadata": {},
   "outputs": [],
   "source": [
    "import pandas as pd\n",
    "import numpy as np"
   ]
  },
  {
   "cell_type": "code",
   "execution_count": 57,
   "id": "a5d92cbf",
   "metadata": {},
   "outputs": [
    {
     "name": "stderr",
     "output_type": "stream",
     "text": [
      "C:\\Users\\dany7\\AppData\\Local\\Temp\\ipykernel_31380\\3540214829.py:1: DtypeWarning: Columns (14,18,23,24,26,28,29,31,32,33,41) have mixed types. Specify dtype option on import or set low_memory=False.\n",
      "  valeur = pd.read_csv(r\"valeursfoncieres-2023.txt\", delimiter=\"|\")\n"
     ]
    }
   ],
   "source": [
    "valeur = pd.read_csv(r\"valeursfoncieres-2023.txt\", delimiter=\"|\")"
   ]
  },
  {
   "cell_type": "code",
   "execution_count": 58,
   "id": "27c2ba5a",
   "metadata": {},
   "outputs": [
    {
     "name": "stdout",
     "output_type": "stream",
     "text": [
      "<class 'pandas.core.frame.DataFrame'>\n",
      "RangeIndex: 3727005 entries, 0 to 3727004\n",
      "Data columns (total 43 columns):\n",
      " #   Column                      Dtype  \n",
      "---  ------                      -----  \n",
      " 0   Identifiant de document     float64\n",
      " 1   Reference document          float64\n",
      " 2   1 Articles CGI              float64\n",
      " 3   2 Articles CGI              float64\n",
      " 4   3 Articles CGI              float64\n",
      " 5   4 Articles CGI              float64\n",
      " 6   5 Articles CGI              float64\n",
      " 7   No disposition              int64  \n",
      " 8   Date mutation               object \n",
      " 9   Nature mutation             object \n",
      " 10  Valeur fonciere             object \n",
      " 11  No voie                     float64\n",
      " 12  B/T/Q                       object \n",
      " 13  Type de voie                object \n",
      " 14  Code voie                   object \n",
      " 15  Voie                        object \n",
      " 16  Code postal                 float64\n",
      " 17  Commune                     object \n",
      " 18  Code departement            object \n",
      " 19  Code commune                int64  \n",
      " 20  Prefixe de section          float64\n",
      " 21  Section                     object \n",
      " 22  No plan                     int64  \n",
      " 23  No Volume                   object \n",
      " 24  1er lot                     object \n",
      " 25  Surface Carrez du 1er lot   object \n",
      " 26  2eme lot                    object \n",
      " 27  Surface Carrez du 2eme lot  object \n",
      " 28  3eme lot                    object \n",
      " 29  Surface Carrez du 3eme lot  object \n",
      " 30  4eme lot                    float64\n",
      " 31  Surface Carrez du 4eme lot  object \n",
      " 32  5eme lot                    object \n",
      " 33  Surface Carrez du 5eme lot  object \n",
      " 34  Nombre de lots              int64  \n",
      " 35  Code type local             float64\n",
      " 36  Type local                  object \n",
      " 37  Identifiant local           float64\n",
      " 38  Surface reelle bati         float64\n",
      " 39  Nombre pieces principales   float64\n",
      " 40  Nature culture              object \n",
      " 41  Nature culture speciale     object \n",
      " 42  Surface terrain             float64\n",
      "dtypes: float64(16), int64(4), object(23)\n",
      "memory usage: 1.2+ GB\n",
      "None\n"
     ]
    }
   ],
   "source": [
    "print(valeur.info())\n",
    "\n"
   ]
  },
  {
   "cell_type": "code",
   "execution_count": 59,
   "id": "89119882",
   "metadata": {},
   "outputs": [
    {
     "name": "stdout",
     "output_type": "stream",
     "text": [
      "<class 'pandas.core.frame.DataFrame'>\n",
      "RangeIndex: 3727005 entries, 0 to 3727004\n",
      "Data columns (total 35 columns):\n",
      " #   Column                      Dtype  \n",
      "---  ------                      -----  \n",
      " 0   No disposition              int64  \n",
      " 1   Date mutation               object \n",
      " 2   Nature mutation             object \n",
      " 3   Valeur fonciere             object \n",
      " 4   No voie                     float64\n",
      " 5   B/T/Q                       object \n",
      " 6   Type de voie                object \n",
      " 7   Code voie                   object \n",
      " 8   Voie                        object \n",
      " 9   Code postal                 float64\n",
      " 10  Commune                     object \n",
      " 11  Code departement            object \n",
      " 12  Code commune                int64  \n",
      " 13  Prefixe de section          float64\n",
      " 14  Section                     object \n",
      " 15  No plan                     int64  \n",
      " 16  No Volume                   object \n",
      " 17  1er lot                     object \n",
      " 18  Surface Carrez du 1er lot   object \n",
      " 19  2eme lot                    object \n",
      " 20  Surface Carrez du 2eme lot  object \n",
      " 21  3eme lot                    object \n",
      " 22  Surface Carrez du 3eme lot  object \n",
      " 23  4eme lot                    float64\n",
      " 24  Surface Carrez du 4eme lot  object \n",
      " 25  5eme lot                    object \n",
      " 26  Surface Carrez du 5eme lot  object \n",
      " 27  Nombre de lots              int64  \n",
      " 28  Code type local             float64\n",
      " 29  Type local                  object \n",
      " 30  Surface reelle bati         float64\n",
      " 31  Nombre pieces principales   float64\n",
      " 32  Nature culture              object \n",
      " 33  Nature culture speciale     object \n",
      " 34  Surface terrain             float64\n",
      "dtypes: float64(8), int64(4), object(23)\n",
      "memory usage: 995.2+ MB\n",
      "None\n"
     ]
    }
   ],
   "source": [
    "valeur_in_cleaning = (valeur.copy())\n",
    "valeur_in_cleaning.dropna(axis=1, how=\"all\", inplace=True)\n",
    "print(valeur_in_cleaning.info())\n",
    "\n"
   ]
  },
  {
   "cell_type": "markdown",
   "id": "5f9c099b",
   "metadata": {},
   "source": [
    "\n",
    "#list_surface_carrez_lot = [\"Surface Carrez du 1er lot\", \"Surface Carrez du 2eme lot\", \"Surface Carrez du 3eme lot\", \"Surface Carrez du 4eme lot\", \"Surface Carrez du 5eme lot\"]\n",
    "#valeur_in_cleaning[\"Surface Carrez Lots Total\"] = 0\n",
    "#print(valeur_in_cleaning[[list_surface_carrez_lot[0]]])\n",
    "\n",
    "for i  in list_surface_carrez_lot:\n",
    "    valeur_in_cleaning[valeur_in_cleaning[i].isna()] = 0\n",
    "\n",
    "valeur_in_cleaning.convert_dtypes(convert_floating=True)\n",
    "\n",
    "print(valeur_in_cleaning.info())\n",
    "\n",
    "for i  in list_surface_carrez_lot:\n",
    "    valeur_in_cleaning[\"Surface Carrez Lots Total\"] = valeur_in_cleaning[\"Surface Carrez Lots Total\"] + temp_2\n",
    "print(valeur_in_cleaning[list_surface_carrez_lot])\n",
    "\n",
    "#print(valeur_in_cleaning[\"Surface Carrez Lots Total\"])\n",
    "#valeur_in_cleaning[\"Surface Carrez Lots Total\"] =  valeur_in_cleaning[[\"Surface Carrez du 1er lot\", \"Surface Carrez du 2eme lot\", \"Surface Carrez du 3eme lot\", \"Surface Carrez du 4eme lot\", \"Surface Carrez du 5eme lot\"]].sum()"
   ]
  },
  {
   "cell_type": "markdown",
   "id": "e00023a6",
   "metadata": {},
   "source": [
    "On regarde maintenenant les colonnes qui qui possèdes des valeur et que l'on veut garder\n",
    "Pour cela, on va regarder les colonnes restanes et voir le pour centage de ligne remplis\n",
    "On récupère tout les colonnes dont moint de 10 % des lignes sont remplis. On va aussi regarder si une colonne comprenant la somme des entrées dans les colonnes sur las surface carrés des lots."
   ]
  },
  {
   "cell_type": "code",
   "execution_count": 60,
   "id": "73cc63d8",
   "metadata": {},
   "outputs": [
    {
     "name": "stdout",
     "output_type": "stream",
     "text": [
      "['No disposition', 'Date mutation', 'Nature mutation', 'Valeur fonciere', 'No voie', 'B/T/Q', 'Type de voie', 'Code voie', 'Voie', 'Code postal', 'Commune', 'Code departement', 'Code commune', 'Prefixe de section', 'Section', 'No plan', 'No Volume', '1er lot', 'Surface Carrez du 1er lot', '2eme lot', 'Surface Carrez du 2eme lot', '3eme lot', 'Surface Carrez du 3eme lot', '4eme lot', 'Surface Carrez du 4eme lot', '5eme lot', 'Surface Carrez du 5eme lot', 'Nombre de lots', 'Code type local', 'Type local', 'Surface reelle bati', 'Nombre pieces principales', 'Nature culture', 'Nature culture speciale', 'Surface terrain']\n",
      "Pour No disposition, le pourcentage de ligne remplis est de 1.0\n",
      "Pour Date mutation, le pourcentage de ligne remplis est de 1.0\n",
      "Pour Nature mutation, le pourcentage de ligne remplis est de 1.0\n",
      "Pour Valeur fonciere, le pourcentage de ligne remplis est de 0.9913123271903311\n",
      "Pour No voie, le pourcentage de ligne remplis est de 0.6201649850214851\n",
      "Pour B/T/Q, le pourcentage de ligne remplis est de 0.04420976092063198\n",
      "Pour Type de voie, le pourcentage de ligne remplis est de 0.5957901854169769\n",
      "Pour Code voie, le pourcentage de ligne remplis est de 0.992417504135358\n",
      "Pour Voie, le pourcentage de ligne remplis est de 0.9922744938630348\n",
      "Pour Code postal, le pourcentage de ligne remplis est de 0.9923509627703746\n",
      "Pour Commune, le pourcentage de ligne remplis est de 1.0\n",
      "Pour Code departement, le pourcentage de ligne remplis est de 1.0\n",
      "Pour Code commune, le pourcentage de ligne remplis est de 1.0\n",
      "Pour Prefixe de section, le pourcentage de ligne remplis est de 0.04620251381471181\n",
      "Pour Section, le pourcentage de ligne remplis est de 0.9999525087838627\n",
      "Pour No plan, le pourcentage de ligne remplis est de 1.0\n",
      "Pour No Volume, le pourcentage de ligne remplis est de 0.0022178666248100017\n",
      "Pour 1er lot, le pourcentage de ligne remplis est de 0.30890782276922085\n",
      "Pour Surface Carrez du 1er lot, le pourcentage de ligne remplis est de 0.08856870328856549\n",
      "Pour 2eme lot, le pourcentage de ligne remplis est de 0.0965743271071544\n",
      "Pour Surface Carrez du 2eme lot, le pourcentage de ligne remplis est de 0.02915397215726837\n",
      "Pour 3eme lot, le pourcentage de ligne remplis est de 0.017176794772209857\n",
      "Pour Surface Carrez du 3eme lot, le pourcentage de ligne remplis est de 0.0032656248113431562\n",
      "Pour 4eme lot, le pourcentage de ligne remplis est de 0.005360067936587152\n",
      "Pour Surface Carrez du 4eme lot, le pourcentage de ligne remplis est de 0.0007590545223309333\n",
      "Pour 5eme lot, le pourcentage de ligne remplis est de 0.0022658944648585124\n",
      "Pour Surface Carrez du 5eme lot, le pourcentage de ligne remplis est de 0.0002471153110875891\n",
      "Pour Nombre de lots, le pourcentage de ligne remplis est de 1.0\n",
      "Pour Code type local, le pourcentage de ligne remplis est de 0.5748693656166278\n",
      "Pour Type local, le pourcentage de ligne remplis est de 0.5748693656166278\n",
      "Pour Surface reelle bati, le pourcentage de ligne remplis est de 0.574206366774394\n",
      "Pour Nombre pieces principales, le pourcentage de ligne remplis est de 0.574206366774394\n",
      "Pour Nature culture, le pourcentage de ligne remplis est de 0.685936294692387\n",
      "Pour Nature culture speciale, le pourcentage de ligne remplis est de 0.04451858798150257\n",
      "Pour Surface terrain, le pourcentage de ligne remplis est de 0.685936294692387\n",
      "Pour la somme des surface carrez des metros, le pourcentage de ligne remplis est de 0.11958449210559148\n"
     ]
    }
   ],
   "source": [
    "\n",
    "\n",
    "index_restant = list(valeur_in_cleaning.columns)\n",
    "print(index_restant)\n",
    "\n",
    "insignificante_column = list()\n",
    "\n",
    "\n",
    "\n",
    "\n",
    "for i in index_restant:\n",
    "    percentage_use = len((valeur_in_cleaning[i])[valeur_in_cleaning[i].notna()])/len(valeur_in_cleaning[i])\n",
    "    print(f\"Pour {i}, le pourcentage de ligne remplis est de {percentage_use}\")\n",
    "    if percentage_use < 0.1:\n",
    "        insignificante_column.append(i)\n",
    "\n",
    "\n",
    "\n",
    "mask = valeur_in_cleaning[\"Surface Carrez du 1er lot\"].notna() | valeur_in_cleaning[\"Surface Carrez du 2eme lot\"].notna() | valeur_in_cleaning[\"Surface Carrez du 3eme lot\"].notna() | valeur_in_cleaning[\"Surface Carrez du 4eme lot\"].notna() | valeur_in_cleaning[\"Surface Carrez du 5eme lot\"].notna()\n",
    "\n",
    "nb_nn = len(valeur_in_cleaning[mask][\"Surface Carrez du 4eme lot\"])\n",
    "print(f\"Pour la somme des surface carrez des metros, le pourcentage de ligne remplis est de {nb_nn/valeur_in_cleaning.shape[0]}\")"
   ]
  },
  {
   "cell_type": "markdown",
   "id": "638d36d2",
   "metadata": {},
   "source": [
    "On voit donc q'une colonne contennat la somme des surfac ecarrés de chaque lots serait remplit à 11,9 % donc on vas crée un nouvelle colonnes.\n",
    "Pour cela on vas d'abord convertir c'est colonne en float :\n",
    " - On remplace les NaN par des 0\n",
    " - On convertit  les colonnes en entier\n",
    " - On fait la somme qui est stocké dans une nouvelle colonne"
   ]
  },
  {
   "cell_type": "code",
   "execution_count": 12,
   "id": "9712145d",
   "metadata": {},
   "outputs": [
    {
     "ename": "AttributeError",
     "evalue": "'DataFrame' object has no attribute 'to_numeric'",
     "output_type": "error",
     "traceback": [
      "\u001b[1;31m---------------------------------------------------------------------------\u001b[0m",
      "\u001b[1;31mAttributeError\u001b[0m                            Traceback (most recent call last)",
      "\u001b[1;32m~\\AppData\\Local\\Temp\\ipykernel_31380\\2780299983.py\u001b[0m in \u001b[0;36m?\u001b[1;34m()\u001b[0m\n\u001b[0;32m      1\u001b[0m \u001b[0mvaleur_in_cleaning\u001b[0m\u001b[1;33m.\u001b[0m\u001b[0mfillna\u001b[0m\u001b[1;33m(\u001b[0m\u001b[1;36m0\u001b[0m\u001b[1;33m,\u001b[0m \u001b[0minplace\u001b[0m\u001b[1;33m=\u001b[0m\u001b[1;32mTrue\u001b[0m\u001b[1;33m)\u001b[0m\u001b[1;33m\u001b[0m\u001b[1;33m\u001b[0m\u001b[0m\n\u001b[0;32m      2\u001b[0m \u001b[1;33m\u001b[0m\u001b[0m\n\u001b[1;32m----> 3\u001b[1;33m \u001b[0mvaleur_in_cleaning\u001b[0m\u001b[1;33m.\u001b[0m\u001b[0mto_numeric\u001b[0m\u001b[1;33m(\u001b[0m\u001b[1;33m)\u001b[0m\u001b[1;33m\u001b[0m\u001b[1;33m\u001b[0m\u001b[0m\n\u001b[0m",
      "\u001b[1;32mc:\\Users\\dany7\\AppData\\Local\\Programs\\Python\\Python310\\lib\\site-packages\\pandas\\core\\generic.py\u001b[0m in \u001b[0;36m?\u001b[1;34m(self, name)\u001b[0m\n\u001b[0;32m   6295\u001b[0m             \u001b[1;32mand\u001b[0m \u001b[0mname\u001b[0m \u001b[1;32mnot\u001b[0m \u001b[1;32min\u001b[0m \u001b[0mself\u001b[0m\u001b[1;33m.\u001b[0m\u001b[0m_accessors\u001b[0m\u001b[1;33m\u001b[0m\u001b[1;33m\u001b[0m\u001b[0m\n\u001b[0;32m   6296\u001b[0m             \u001b[1;32mand\u001b[0m \u001b[0mself\u001b[0m\u001b[1;33m.\u001b[0m\u001b[0m_info_axis\u001b[0m\u001b[1;33m.\u001b[0m\u001b[0m_can_hold_identifiers_and_holds_name\u001b[0m\u001b[1;33m(\u001b[0m\u001b[0mname\u001b[0m\u001b[1;33m)\u001b[0m\u001b[1;33m\u001b[0m\u001b[1;33m\u001b[0m\u001b[0m\n\u001b[0;32m   6297\u001b[0m         ):\n\u001b[0;32m   6298\u001b[0m             \u001b[1;32mreturn\u001b[0m \u001b[0mself\u001b[0m\u001b[1;33m[\u001b[0m\u001b[0mname\u001b[0m\u001b[1;33m]\u001b[0m\u001b[1;33m\u001b[0m\u001b[1;33m\u001b[0m\u001b[0m\n\u001b[1;32m-> 6299\u001b[1;33m         \u001b[1;32mreturn\u001b[0m \u001b[0mobject\u001b[0m\u001b[1;33m.\u001b[0m\u001b[0m__getattribute__\u001b[0m\u001b[1;33m(\u001b[0m\u001b[0mself\u001b[0m\u001b[1;33m,\u001b[0m \u001b[0mname\u001b[0m\u001b[1;33m)\u001b[0m\u001b[1;33m\u001b[0m\u001b[1;33m\u001b[0m\u001b[0m\n\u001b[0m",
      "\u001b[1;31mAttributeError\u001b[0m: 'DataFrame' object has no attribute 'to_numeric'"
     ]
    }
   ],
   "source": []
  },
  {
   "cell_type": "markdown",
   "id": "8651366c",
   "metadata": {},
   "source": [
    "On enlève toutes les données dont le pourcentage est inférieur à 10 %."
   ]
  },
  {
   "cell_type": "code",
   "execution_count": 61,
   "id": "df59bcff",
   "metadata": {},
   "outputs": [
    {
     "name": "stdout",
     "output_type": "stream",
     "text": [
      "On va enlever : \n",
      "- B/T/Q\n",
      "- Prefixe de section\n",
      "- No Volume\n",
      "- Surface Carrez du 1er lot\n",
      "- 2eme lot\n",
      "- Surface Carrez du 2eme lot\n",
      "- 3eme lot\n",
      "- Surface Carrez du 3eme lot\n",
      "- 4eme lot\n",
      "- Surface Carrez du 4eme lot\n",
      "- 5eme lot\n",
      "- Surface Carrez du 5eme lot\n",
      "- Nature culture speciale\n"
     ]
    }
   ],
   "source": [
    "#print(valeur_in_cleaning.drop(labels=insignificante_column, axis=1))\n",
    "print(\"On va enlever : \")\n",
    "for i in insignificante_column:\n",
    "    print(f\"- {i}\")\n",
    "\n",
    "valeur_in_cleaning.drop(labels=insignificante_column, axis=1, inplace=True) # étant donner que nous suprimons reelement des collon du au inplace\n",
    "# en cas d'erreur, recherger les instruction précédente "
   ]
  },
  {
   "cell_type": "markdown",
   "id": "8fa43dd7",
   "metadata": {},
   "source": [
    "Sure les lignes restantes, nous allons enlever tous les numéros d'identifications"
   ]
  },
  {
   "cell_type": "code",
   "execution_count": 62,
   "id": "95fda334",
   "metadata": {},
   "outputs": [
    {
     "name": "stdout",
     "output_type": "stream",
     "text": [
      "<class 'pandas.core.frame.DataFrame'>\n",
      "RangeIndex: 3727005 entries, 0 to 3727004\n",
      "Data columns (total 18 columns):\n",
      " #   Column                     Dtype  \n",
      "---  ------                     -----  \n",
      " 0   Date mutation              object \n",
      " 1   Nature mutation            object \n",
      " 2   Valeur fonciere            object \n",
      " 3   Type de voie               object \n",
      " 4   Code voie                  object \n",
      " 5   Code postal                float64\n",
      " 6   Commune                    object \n",
      " 7   Code departement           object \n",
      " 8   Code commune               int64  \n",
      " 9   Section                    object \n",
      " 10  1er lot                    object \n",
      " 11  Nombre de lots             int64  \n",
      " 12  Code type local            float64\n",
      " 13  Type local                 object \n",
      " 14  Surface reelle bati        float64\n",
      " 15  Nombre pieces principales  float64\n",
      " 16  Nature culture             object \n",
      " 17  Surface terrain            float64\n",
      "dtypes: float64(5), int64(2), object(11)\n",
      "memory usage: 511.8+ MB\n",
      "None\n"
     ]
    }
   ],
   "source": [
    "print((valeur_in_cleaning.drop(labels=[\"No disposition\", \"No voie\", \"Voie\",  \"No plan\"], axis=1)).info())\n"
   ]
  },
  {
   "cell_type": "code",
   "execution_count": 18,
   "id": "5980bb43",
   "metadata": {},
   "outputs": [
    {
     "name": "stdout",
     "output_type": "stream",
     "text": [
      "<class 'pandas.core.frame.DataFrame'>\n",
      "Index: 0 entries\n",
      "Data columns (total 35 columns):\n",
      " #   Column                      Non-Null Count  Dtype  \n",
      "---  ------                      --------------  -----  \n",
      " 0   No disposition              0 non-null      int64  \n",
      " 1   Date mutation               0 non-null      object \n",
      " 2   Nature mutation             0 non-null      object \n",
      " 3   Valeur fonciere             0 non-null      object \n",
      " 4   No voie                     0 non-null      float64\n",
      " 5   B/T/Q                       0 non-null      object \n",
      " 6   Type de voie                0 non-null      object \n",
      " 7   Code voie                   0 non-null      object \n",
      " 8   Voie                        0 non-null      object \n",
      " 9   Code postal                 0 non-null      float64\n",
      " 10  Commune                     0 non-null      object \n",
      " 11  Code departement            0 non-null      object \n",
      " 12  Code commune                0 non-null      int64  \n",
      " 13  Prefixe de section          0 non-null      float64\n",
      " 14  Section                     0 non-null      object \n",
      " 15  No plan                     0 non-null      int64  \n",
      " 16  No Volume                   0 non-null      object \n",
      " 17  1er lot                     0 non-null      object \n",
      " 18  Surface Carrez du 1er lot   0 non-null      object \n",
      " 19  2eme lot                    0 non-null      object \n",
      " 20  Surface Carrez du 2eme lot  0 non-null      object \n",
      " 21  3eme lot                    0 non-null      object \n",
      " 22  Surface Carrez du 3eme lot  0 non-null      object \n",
      " 23  4eme lot                    0 non-null      float64\n",
      " 24  Surface Carrez du 4eme lot  0 non-null      object \n",
      " 25  5eme lot                    0 non-null      object \n",
      " 26  Surface Carrez du 5eme lot  0 non-null      object \n",
      " 27  Nombre de lots              0 non-null      int64  \n",
      " 28  Code type local             0 non-null      float64\n",
      " 29  Type local                  0 non-null      object \n",
      " 30  Surface reelle bati         0 non-null      float64\n",
      " 31  Nombre pieces principales   0 non-null      float64\n",
      " 32  Nature culture              0 non-null      object \n",
      " 33  Nature culture speciale     0 non-null      object \n",
      " 34  Surface terrain             0 non-null      float64\n",
      "dtypes: float64(8), int64(4), object(23)\n",
      "memory usage: 0.0+ bytes\n",
      "None\n"
     ]
    },
    {
     "name": "stderr",
     "output_type": "stream",
     "text": [
      "C:\\Users\\q5685\\AppData\\Local\\Temp\\ipykernel_21180\\3600780839.py:1: SettingWithCopyWarning: \n",
      "A value is trying to be set on a copy of a slice from a DataFrame\n",
      "\n",
      "See the caveats in the documentation: https://pandas.pydata.org/pandas-docs/stable/user_guide/indexing.html#returning-a-view-versus-a-copy\n",
      "  valeur_in_cleaning.dropna(axis=0, how=\"any\", inplace=True)\n"
     ]
    }
   ],
   "source": []
  },
  {
   "cell_type": "code",
   "execution_count": 70,
   "id": "04bb1d61",
   "metadata": {},
   "outputs": [
    {
     "name": "stdout",
     "output_type": "stream",
     "text": [
      "<class 'pandas.core.frame.DataFrame'>\n",
      "RangeIndex: 3727005 entries, 0 to 3727004\n",
      "Data columns (total 22 columns):\n",
      " #   Column                     Dtype  \n",
      "---  ------                     -----  \n",
      " 0   No disposition             float64\n",
      " 1   Date mutation              object \n",
      " 2   Nature mutation            object \n",
      " 3   Valeur fonciere            float64\n",
      " 4   No voie                    float64\n",
      " 5   Type de voie               object \n",
      " 6   Code voie                  float64\n",
      " 7   Voie                       object \n",
      " 8   Code postal                float64\n",
      " 9   Commune                    object \n",
      " 10  Code departement           object \n",
      " 11  Code commune               float64\n",
      " 12  Section                    object \n",
      " 13  No plan                    float64\n",
      " 14  1er lot                    object \n",
      " 15  Nombre de lots             float64\n",
      " 16  Code type local            float64\n",
      " 17  Type local                 object \n",
      " 18  Surface reelle bati        float64\n",
      " 19  Nombre pieces principales  float64\n",
      " 20  Nature culture             object \n",
      " 21  Surface terrain            float64\n",
      "dtypes: float64(12), object(10)\n",
      "memory usage: 625.6+ MB\n",
      "None\n"
     ]
    }
   ],
   "source": [
    "\n",
    "a_convertir=['No disposition','Valeur fonciere','Code voie','Code postal','No plan','Nombre de lots','Code type local','Surface reelle bati','Nombre pieces principales','Surface terrain','Code commune']\n",
    "\n",
    "valeur_in_cleaning[a_convertir] = valeur_in_cleaning[a_convertir].replace(',', '.', regex=True, )\n",
    "valeur_in_cleaning[a_convertir] = pd.to_numeric(list(valeur_in_cleaning[a_convertir]), errors='coerce')\n",
    "valeur_in_cleaning[a_convertir] = valeur_in_cleaning[a_convertir].astype(float) # changer le astype(int) si vous volez changer les chifre en int, n'oublier pas de recherger a nouveau tout le document\n",
    "\n",
    "print(valeur_in_cleaning.info())\n"
   ]
  }
 ],
 "metadata": {
  "kernelspec": {
   "display_name": "Python 3 (ipykernel)",
   "language": "python",
   "name": "python3"
  },
  "language_info": {
   "codemirror_mode": {
    "name": "ipython",
    "version": 3
   },
   "file_extension": ".py",
   "mimetype": "text/x-python",
   "name": "python",
   "nbconvert_exporter": "python",
   "pygments_lexer": "ipython3",
   "version": "3.10.2"
  }
 },
 "nbformat": 4,
 "nbformat_minor": 5
}
